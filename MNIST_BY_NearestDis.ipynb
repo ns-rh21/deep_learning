{
 "cells": [
  {
   "cell_type": "code",
   "execution_count": 7,
   "id": "27b07343",
   "metadata": {},
   "outputs": [
    {
     "name": "stdout",
     "output_type": "stream",
     "text": [
      "Requirement already satisfied: pandas in c:\\users\\nasib\\anaconda3\\lib\\site-packages (1.4.2)\n",
      "Requirement already satisfied: python-dateutil>=2.8.1 in c:\\users\\nasib\\anaconda3\\lib\\site-packages (from pandas) (2.8.2)\n",
      "Requirement already satisfied: pytz>=2020.1 in c:\\users\\nasib\\anaconda3\\lib\\site-packages (from pandas) (2021.3)\n",
      "Requirement already satisfied: numpy>=1.18.5 in c:\\users\\nasib\\anaconda3\\lib\\site-packages (from pandas) (1.21.5)\n",
      "Requirement already satisfied: six>=1.5 in c:\\users\\nasib\\anaconda3\\lib\\site-packages (from python-dateutil>=2.8.1->pandas) (1.16.0)\n",
      "Note: you may need to restart the kernel to use updated packages.\n"
     ]
    }
   ],
   "source": [
    "%pip install pandas"
   ]
  },
  {
   "cell_type": "code",
   "execution_count": 1,
   "id": "6ef3ce15",
   "metadata": {},
   "outputs": [],
   "source": [
    "#Solving MNIST  by nearest distances\n",
    "import os\n",
    "import numpy as np\n",
    "import matplotlib.pyplot as plt\n",
    "import pandas as pd\n",
    "import seaborn as sns\n",
    "import statsmodels.api as sm"
   ]
  },
  {
   "cell_type": "code",
   "execution_count": 2,
   "id": "80c20ac6",
   "metadata": {},
   "outputs": [],
   "source": [
    "os.chdir('E:\\\\داده\\\\project')\n",
    "train = pd.read_csv('mnist_train.csv')\n",
    "test= pd.read_csv('mnist_test.csv')\n",
    "#I seprate the image features and the number in test and tran datasets\n",
    "train_lable=train.iloc[:,:1]\n",
    "train=train.iloc[:,1:]\n",
    "test_lable=test.iloc[:,:1]\n",
    "test=test.iloc[:,1:]"
   ]
  },
  {
   "cell_type": "code",
   "execution_count": 67,
   "id": "ab5ba252",
   "metadata": {},
   "outputs": [],
   "source": [
    "def image_show(i, data, label):\n",
    "    x = data.iloc[i].values # get the vectorized image\n",
    "    x = x.reshape((28,28)) # reshape it into 28x28 format\n",
    "    print('The image label of index %d is %d.' %(i, label.iloc[i]))\n",
    "    plt.imshow(x, cmap='gray') # show the image"
   ]
  },
  {
   "cell_type": "code",
   "execution_count": 68,
   "id": "83731036",
   "metadata": {},
   "outputs": [
    {
     "name": "stdout",
     "output_type": "stream",
     "text": [
      "The image label of index 10 is 5.\n"
     ]
    },
    {
     "data": {
      "image/png": "[encoded data removed]",
      "text/plain": [
       "<Figure size 432x288 with 1 Axes>"
      ]
     },
     "metadata": {
      "needs_background": "light"
     },
     "output_type": "display_data"
    }
   ],
   "source": [
    "#test the number image\n",
    "image_show(10, train,train_lable)"
   ]
  },
  {
   "cell_type": "code",
   "execution_count": 76,
   "id": "6830503d",
   "metadata": {},
   "outputs": [],
   "source": [
    "def distance(x,y):\n",
    "    return np.sqrt(np.sum(np.square(x-y)))\n",
    "def kNN(x, data, label):\n",
    "    #create a list of distances between the given image and the images of the training set\n",
    "    distances =[distance(x,data.iloc[i]) for i in range(len(data))]\n",
    "    idx = np.argmin(distances)\n",
    "    return label.iloc[idx]"
   ]
  },
  {
   "cell_type": "code",
   "execution_count": 108,
   "id": "9f02b520",
   "metadata": {},
   "outputs": [],
   "source": [
    "def accuracy_set(data, label, train_data, train_label):\n",
    "    cnt = 0\n",
    "    for i in range(len(data)):\n",
    "        if kNN(data.iloc[i], train_data, train_label).equals(label.iloc[i]):\n",
    "            cnt += 1\n",
    "    return cnt/len(label)"
   ]
  },
  {
   "cell_type": "code",
   "execution_count": null,
   "id": "06102a32",
   "metadata": {},
   "outputs": [],
   "source": [
    "# the precentage of accuracy of this method\n",
    "acc=accuracy_set(test,test_lable,train,train_lable)"
   ]
  }
 ],
 "metadata": {
  "kernelspec": {
   "display_name": "Python 3 (ipykernel)",
   "language": "python",
   "name": "python3"
  },
  "language_info": {
   "codemirror_mode": {
    "name": "ipython",
    "version": 3
   },
   "file_extension": ".py",
   "mimetype": "text/x-python",
   "name": "python",
   "nbconvert_exporter": "python",
   "pygments_lexer": "ipython3",
   "version": "3.9.12"
  }
 },
 "nbformat": 4,
 "nbformat_minor": 5
}
